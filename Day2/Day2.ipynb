{
 "cells": [
  {
   "cell_type": "code",
   "execution_count": 37,
   "metadata": {},
   "outputs": [
    {
     "name": "stdout",
     "output_type": "stream",
     "text": [
      "12679\n"
     ]
    }
   ],
   "source": [
    "#Part 1\n",
    "file = open('puzzleInput.txt')\n",
    "myTotalPoints = 0\n",
    "lines = file.readlines()\n",
    "\n",
    "for line in lines:\n",
    "    if (line.find('A') != -1 and line.find('Y') !=-1):\n",
    "        myTotalPoints += 8\n",
    "    elif (line.find('B') != -1 and line.find('Z') != -1): \n",
    "        myTotalPoints += 9\n",
    "    elif (line.find('C') != -1 and line.find('X') != -1):\n",
    "        myTotalPoints += 7\n",
    "    elif (line.find('A') != -1 and line.find('X') != -1):\n",
    "        myTotalPoints += 4\n",
    "    elif (line.find('B') != -1 and line.find('Y') != -1):\n",
    "        myTotalPoints += 5\n",
    "    elif (line.find('C') != -1 and line.find('Z') != -1):\n",
    "        myTotalPoints += 6\n",
    "    elif (line.find('A') != -1 and line.find('Z') != -1):\n",
    "        myTotalPoints += 3\n",
    "    elif (line.find('B') != -1 and line.find('X') != -1):\n",
    "        myTotalPoints += 1\n",
    "    elif (line.find('C') != -1 and line.find('Y') != -1):\n",
    "        myTotalPoints +=2\n",
    "print(myTotalPoints)"
   ]
  },
  {
   "cell_type": "code",
   "execution_count": 38,
   "metadata": {},
   "outputs": [
    {
     "name": "stdout",
     "output_type": "stream",
     "text": [
      "14470\n"
     ]
    }
   ],
   "source": [
    "#Part 2\n",
    "file = open('puzzleInput.txt')\n",
    "myTotalPoints = 0\n",
    "lines = file.readlines()\n",
    "\n",
    "for line in lines:\n",
    "    if (line.find('A') != -1 and line.find('Z') !=-1):\n",
    "        myTotalPoints += 8\n",
    "    elif (line.find('A') != -1 and line.find('X') != -1): \n",
    "        myTotalPoints += 3\n",
    "    elif (line.find('A') != -1 and line.find('Y') != -1):\n",
    "        myTotalPoints += 4\n",
    "    elif (line.find('B') != -1 and line.find('Z') != -1):\n",
    "        myTotalPoints += 9\n",
    "    elif (line.find('B') != -1 and line.find('X') != -1):\n",
    "        myTotalPoints += 1\n",
    "    elif (line.find('B') != -1 and line.find('Y') != -1):\n",
    "        myTotalPoints += 5\n",
    "    elif (line.find('C') != -1 and line.find('Z') != -1):\n",
    "        myTotalPoints += 7\n",
    "    elif (line.find('C') != -1 and line.find('X') != -1):\n",
    "        myTotalPoints += 2\n",
    "    elif (line.find('C') != -1 and line.find('Y') != -1):\n",
    "        myTotalPoints += 6\n",
    "print(myTotalPoints)"
   ]
  }
 ],
 "metadata": {
  "kernelspec": {
   "display_name": "Python 3.10.2 64-bit",
   "language": "python",
   "name": "python3"
  },
  "language_info": {
   "codemirror_mode": {
    "name": "ipython",
    "version": 3
   },
   "file_extension": ".py",
   "mimetype": "text/x-python",
   "name": "python",
   "nbconvert_exporter": "python",
   "pygments_lexer": "ipython3",
   "version": "3.10.2"
  },
  "orig_nbformat": 4,
  "vscode": {
   "interpreter": {
    "hash": "aee8b7b246df8f9039afb4144a1f6fd8d2ca17a180786b69acc140d282b71a49"
   }
  }
 },
 "nbformat": 4,
 "nbformat_minor": 2
}
