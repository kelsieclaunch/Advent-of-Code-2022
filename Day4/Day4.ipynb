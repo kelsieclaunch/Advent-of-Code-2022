{
 "cells": [
  {
   "cell_type": "code",
   "execution_count": 22,
   "metadata": {},
   "outputs": [
    {
     "name": "stdout",
     "output_type": "stream",
     "text": [
      "477\n",
      "830\n"
     ]
    }
   ],
   "source": [
    "### PART ONE ###\n",
    "file = open('day4PuzzleInput.txt')\n",
    "lines = file.readlines()\n",
    "dupes = 0\n",
    "\n",
    "for line in lines:\n",
    "    line = line.strip(\"\\n\")\n",
    "    elfOne, elfTwo = line.split(',')\n",
    "    elfOne = [int(i) for i in elfOne.split('-')]\n",
    "    elfTwo = [int(i) for i in elfTwo.split('-')]\n",
    "    #print(elfOne)\n",
    "    #print(elfTwo)\n",
    "    if elfOne[0] <= elfTwo[0] and elfOne[1] >= elfTwo[1]:\n",
    "        dupes += 1\n",
    "    elif elfTwo[0] <= elfOne[0] and elfTwo[1] >= elfOne[1]:\n",
    "        dupes += 1\n",
    "\n",
    "print(dupes) #Answer for part one\n",
    "\n",
    "### PART TWO ###\n",
    "\n",
    "newOverlaps = 0\n",
    "\n",
    "for line in lines:\n",
    "    line = line.strip(\"\\n\")\n",
    "    elfOne, elfTwo = line.split(',')\n",
    "    elfOne = [int(i) for i in elfOne.split('-')]\n",
    "    elfTwo = [int(i) for i in elfTwo.split('-')]\n",
    "    #print(elfOne)\n",
    "    #print(elfTwo)\n",
    "    if elfOne[0] in range(elfTwo[0], elfTwo[1]+1) or elfOne[1] in range(elfTwo[0], elfTwo[1]+1):\n",
    "        newOverlaps+=1\n",
    "    elif elfTwo[0] in range(elfOne[0], elfOne[1]+1) or elfTwo[1] in range(elfOne[0], elfOne[1]+1):\n",
    "        newOverlaps+=1\n",
    "\n",
    "print(newOverlaps)\n",
    "\n",
    "\n",
    "\n",
    "\n"
   ]
  }
 ],
 "metadata": {
  "kernelspec": {
   "display_name": "Python 3.10.2 64-bit",
   "language": "python",
   "name": "python3"
  },
  "language_info": {
   "codemirror_mode": {
    "name": "ipython",
    "version": 3
   },
   "file_extension": ".py",
   "mimetype": "text/x-python",
   "name": "python",
   "nbconvert_exporter": "python",
   "pygments_lexer": "ipython3",
   "version": "3.10.2"
  },
  "orig_nbformat": 4,
  "vscode": {
   "interpreter": {
    "hash": "aee8b7b246df8f9039afb4144a1f6fd8d2ca17a180786b69acc140d282b71a49"
   }
  }
 },
 "nbformat": 4,
 "nbformat_minor": 2
}
