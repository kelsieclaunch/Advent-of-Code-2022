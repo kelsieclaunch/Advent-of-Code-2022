{
 "cells": [
  {
   "cell_type": "code",
   "execution_count": 1,
   "metadata": {},
   "outputs": [
    {
     "ename": "FileNotFoundError",
     "evalue": "[Errno 2] No such file or directory: 'ElfCalories.txt'",
     "output_type": "error",
     "traceback": [
      "\u001b[0;31m---------------------------------------------------------------------------\u001b[0m",
      "\u001b[0;31mFileNotFoundError\u001b[0m                         Traceback (most recent call last)",
      "\u001b[1;32mUntitled-1.ipynb Cell 1\u001b[0m in \u001b[0;36m<cell line: 1>\u001b[0;34m()\u001b[0m\n\u001b[0;32m----> <a href='vscode-notebook-cell:Untitled-1.ipynb?jupyter-notebook#W0sdW50aXRsZWQ%3D?line=0'>1</a>\u001b[0m file \u001b[39m=\u001b[39m \u001b[39mopen\u001b[39;49m(\u001b[39m'\u001b[39;49m\u001b[39mElfCalories.txt\u001b[39;49m\u001b[39m'\u001b[39;49m)\n\u001b[1;32m      <a href='vscode-notebook-cell:Untitled-1.ipynb?jupyter-notebook#W0sdW50aXRsZWQ%3D?line=1'>2</a>\u001b[0m lines \u001b[39m=\u001b[39m file\u001b[39m.\u001b[39mreadlines\n\u001b[1;32m      <a href='vscode-notebook-cell:Untitled-1.ipynb?jupyter-notebook#W0sdW50aXRsZWQ%3D?line=2'>3</a>\u001b[0m elfTotalCals \u001b[39m=\u001b[39m \u001b[39m0\u001b[39m\n",
      "\u001b[0;31mFileNotFoundError\u001b[0m: [Errno 2] No such file or directory: 'ElfCalories.txt'"
     ]
    }
   ],
   "source": [
    "file = open('ElfCalories.txt')\n",
    "#lines = file.readlines\n",
    "topElf = 0\n",
    "secondElf = 0\n",
    "thirdElf = 0\n",
    "thisElf = 0\n",
    "elfTotalCals = 0\n",
    "\n",
    "\n",
    "for line in file:\n",
    "    if line != '\\n':\n",
    "        lineCals = int(line)\n",
    "        #print(lineCals)\n",
    "        thisElf += lineCals\n",
    "\n",
    "    else:\n",
    "        if thisElf > topElf:\n",
    "            thirdElf = secondElf\n",
    "            secondElf = topElf\n",
    "            topElf = thisElf\n",
    "        if thisElf > secondElf and thisElf < topElf:\n",
    "            thirdElf = secondElf\n",
    "            secondElf = thisElf\n",
    "        if thisElf > thirdElf and thisElf < secondElf:\n",
    "            thirdElf = thisElf\n",
    "        thisElf = 0\n",
    "elfTotalCals = topElf + secondElf + thirdElf\n",
    "print(elfTotalCals)\n",
    "    "
   ]
  }
 ],
 "metadata": {
  "kernelspec": {
   "display_name": "Python 3.10.2 64-bit",
   "language": "python",
   "name": "python3"
  },
  "language_info": {
   "codemirror_mode": {
    "name": "ipython",
    "version": 3
   },
   "file_extension": ".py",
   "mimetype": "text/x-python",
   "name": "python",
   "nbconvert_exporter": "python",
   "pygments_lexer": "ipython3",
   "version": "3.10.2"
  },
  "orig_nbformat": 4,
  "vscode": {
   "interpreter": {
    "hash": "aee8b7b246df8f9039afb4144a1f6fd8d2ca17a180786b69acc140d282b71a49"
   }
  }
 },
 "nbformat": 4,
 "nbformat_minor": 2
}
