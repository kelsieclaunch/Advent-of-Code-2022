{
 "cells": [
  {
   "cell_type": "code",
   "execution_count": 46,
   "metadata": {},
   "outputs": [
    {
     "name": "stdout",
     "output_type": "stream",
     "text": [
      "2639\n"
     ]
    }
   ],
   "source": [
    "#handle one line at a time\n",
    "import math\n",
    "from string import ascii_letters\n",
    "file = open('day3PuzzleInput.txt')\n",
    "myTotalPoints = 0\n",
    "lines = file.readlines()\n",
    "duplicateLettersOne = []\n",
    "totalValue = 0\n",
    "\n",
    "\n",
    "\n",
    "for line in lines:\n",
    "    #print(length)\n",
    "    mid = len(line)//2\n",
    "    #print(mid)\n",
    "    compartmentOne = line[:mid]\n",
    "    compartmentTwo = line[mid:]\n",
    "    #print(compartmentOne)\n",
    "    #print(compartmentTwo)\n",
    "\n",
    "\n",
    "    for priority, letter in enumerate(ascii_letters):\n",
    "        if letter in compartmentOne and letter in compartmentTwo:\n",
    "            totalValue += priority + 1\n",
    "\n",
    "\n",
    "\n",
    "\n",
    "\n",
    "#print(totalValue)\n",
    "\n",
    "### PART TWO ###\n",
    "\n",
    "newSum = 0\n",
    "\n",
    "for i in range(0, len(lines), 3):\n",
    "    rucksacks = lines[i:i+3]\n",
    "    \n",
    "    for priority, letter in enumerate(ascii_letters):\n",
    "        if letter in rucksacks[0] and letter in rucksacks[1] and letter in rucksacks[2]:\n",
    "            newSum += priority + 1\n",
    "\n",
    "print(newSum)\n",
    "\n",
    "\n"
   ]
  },
  {
   "cell_type": "code",
   "execution_count": null,
   "metadata": {},
   "outputs": [],
   "source": []
  }
 ],
 "metadata": {
  "kernelspec": {
   "display_name": "Python 3.10.2 64-bit",
   "language": "python",
   "name": "python3"
  },
  "language_info": {
   "codemirror_mode": {
    "name": "ipython",
    "version": 3
   },
   "file_extension": ".py",
   "mimetype": "text/x-python",
   "name": "python",
   "nbconvert_exporter": "python",
   "pygments_lexer": "ipython3",
   "version": "3.10.2"
  },
  "orig_nbformat": 4,
  "vscode": {
   "interpreter": {
    "hash": "aee8b7b246df8f9039afb4144a1f6fd8d2ca17a180786b69acc140d282b71a49"
   }
  }
 },
 "nbformat": 4,
 "nbformat_minor": 2
}
